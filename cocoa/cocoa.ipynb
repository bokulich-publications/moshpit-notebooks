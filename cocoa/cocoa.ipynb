{
 "cells": [
  {
   "cell_type": "markdown",
   "metadata": {},
   "source": [
    "# Cocoa fermentation data analysis\n",
    "This notebook contains the analysis of the 14 samples from the original study by [Almeida & De Martinis](https://doi.org/10.1128/aem.00584-21). All the samples were subject to the entire MOSHPIT MAG reconstruction pipeline available in QIIME 2. Here, we focus on downstream analysis of the resulting feature tables."
   ]
  },
  {
   "cell_type": "code",
   "execution_count": null,
   "metadata": {},
   "outputs": [],
   "source": [
    "# silence pandas' warnings\n",
    "import warnings\n",
    "warnings.simplefilter(action='ignore', category=FutureWarning)\n",
    "\n",
    "import numpy as np\n",
    "import qiime2 as q2\n",
    "import pandas as pd\n",
    "import seaborn as sns\n",
    "import matplotlib.pyplot as plt\n",
    "\n",
    "import os\n",
    "import re\n",
    "\n",
    "from matplotlib.colors import LinearSegmentedColormap\n",
    "from qiime2.plugins import taxa, feature_table\n",
    "from typing import List, Dict\n",
    "\n",
    "%matplotlib inline"
   ]
  },
  {
   "cell_type": "code",
   "execution_count": null,
   "metadata": {},
   "outputs": [],
   "source": [
    "def plot_diversity(\n",
    "    fp: str, \n",
    "    metadata: pd.DataFrame, \n",
    "    x_col: str, \n",
    "    hue: str, \n",
    "    ax,\n",
    "    x_label: str,\n",
    "    y_label: str,\n",
    "    title: str\n",
    "):\n",
    "    \"\"\"\n",
    "    Plots diversity metrics over a specified x-axis variable using a line plot.\n",
    "\n",
    "    Parameters:\n",
    "        - fp (str): File path to the diversity metric artifact.\n",
    "        - metadata (pd.DataFrame): DataFrame containing metadata to merge with the diversity data.\n",
    "        - x_col (str): Column name in the DataFrame to use for the x-axis.\n",
    "        - hue (str): Column name in the DataFrame to use for color encoding.\n",
    "        - ax (matplotlib.axes.Axes): The axes onto which the plot will be drawn.\n",
    "        - x_label (str): Label for the x-axis.\n",
    "        - y_label (str): Label for the y-axis.\n",
    "        - title (str): Title of the plot.\n",
    "\n",
    "    Returns:\n",
    "        - ax_new (matplotlib.axes.Axes): The axes object with the plot.\n",
    "        - data (pd.DataFrame): Merged DataFrame containing the diversity data and metadata.\n",
    "    \"\"\"\n",
    "    data = q2.Artifact.load(fp).view(pd.Series)\n",
    "    metric = data.name\n",
    "    data = data.to_frame().merge(metadata, left_index=True, right_index=True)\n",
    "    ax_new = sns.lineplot(data=data, x=x_col, y=metric, hue=hue, ax=ax)\n",
    "    \n",
    "    ax.set_xlabel(x_label)\n",
    "    ax.set_ylabel(y_label)\n",
    "    ax.set_title(title)\n",
    "    \n",
    "    return ax_new, data\n",
    "\n",
    "\n",
    "def plot_diversity_together(\n",
    "    fps: Dict, \n",
    "    metadata: pd.DataFrame,\n",
    "    seed: str,\n",
    "    metric: str,\n",
    "    x_col: str, \n",
    "    hue: str, \n",
    "    ax,\n",
    "    x_label: str,\n",
    "    y_label: str,\n",
    "    title: str\n",
    "):\n",
    "    \"\"\"\n",
    "    Plots diversity metrics from multiple files together using a line plot.\n",
    "\n",
    "    Parameters:\n",
    "        - fps (Dict): Dictionary where keys are labels for classifiers and values are file paths to the diversity metric data.\n",
    "        - metadata (pd.DataFrame): DataFrame containing metadata to merge with the diversity data.\n",
    "        - seed (str): Specific seed value to filter the data.\n",
    "        - metric (str): Name of the metric to plot on the y-axis.\n",
    "        - x_col (str): Column name in the DataFrame to use for the x-axis.\n",
    "        - hue (str): Column name in the DataFrame to use for color encoding.\n",
    "        - ax (matplotlib.axes.Axes): The axes onto which the plot will be drawn.\n",
    "        - x_label (str): Label for the x-axis.\n",
    "        - y_label (str): Label for the y-axis.\n",
    "        - title (str): Title of the plot.\n",
    "\n",
    "    Returns:\n",
    "        - ax_new (matplotlib.axes.Axes): The axes object with the plot.\n",
    "        - data (pd.DataFrame): Merged DataFrame containing the combined diversity data and metadata.\n",
    "    \"\"\"\n",
    "    data = []\n",
    "    for k, v in fps.items():\n",
    "        df = q2.Artifact.load(v).view(pd.Series).to_frame()\n",
    "        df['classifier'] = k\n",
    "        data.append(df)\n",
    "\n",
    "    data = pd.concat(data, axis=0)\n",
    "    data = data.merge(metadata, left_index=True, right_index=True)\n",
    "    data = data[data['seed'] == seed]\n",
    "    \n",
    "    ax_new = sns.lineplot(data=data, x=x_col, y=metric, hue=hue, ax=ax)\n",
    "    \n",
    "    ax.set_xlabel(x_label)\n",
    "    ax.set_ylabel(y_label)\n",
    "    ax.set_title(title)\n",
    "    \n",
    "    return ax_new, data\n",
    "\n",
    "\n",
    "def generate_colors(columns: list, keyword: str, base_color_idx: int) -> dict:\n",
    "    \"\"\"\n",
    "    Generates a dictionary of colors for a list of columns based on a keyword and a base color index.\n",
    "\n",
    "    Parameters:\n",
    "        - columns (list): List of column names for which colors need to be generated.\n",
    "        - keyword (str): Keyword to identify which columns should receive sequential colors.\n",
    "        - base_color_idx (int): Index of the base color in the HUSL palette to use for generating sequential colors.\n",
    "\n",
    "    Returns:\n",
    "        - colors (dict): A dictionary mapping each column name to its corresponding color.\n",
    "    \"\"\"\n",
    "    husl_palette = sns.husl_palette(len(columns), h=0.5)\n",
    "    base_color = husl_palette[base_color_idx]\n",
    "    \n",
    "    sequential_cmap = LinearSegmentedColormap.from_list(\"custom_cmap\", [base_color, \"white\"])\n",
    "    sequential_colors = [sequential_cmap(i) for i in np.linspace(0, 1.6, len(columns))]\n",
    "    qualitative_colors = [color for i, color in enumerate(husl_palette) if i != base_color_idx]\n",
    "    \n",
    "    colors = {}\n",
    "    i, j = 0, 0\n",
    "    \n",
    "    for col in columns:\n",
    "        if keyword in col:\n",
    "            color = sequential_colors[i]\n",
    "            i += 1\n",
    "        else:\n",
    "            color = qualitative_colors[j]\n",
    "            j += 1\n",
    "        colors[col] = color\n",
    "    \n",
    "    return colors"
   ]
  },
  {
   "cell_type": "code",
   "execution_count": null,
   "metadata": {},
   "outputs": [],
   "source": [
    "data_dir = \"./data\"\n",
    "\n",
    "metadata_fp = os.path.join(data_dir, \"cocoa-metadata.tsv\")\n",
    "metadata = pd.read_csv(metadata_fp, sep=\"\\t\", index_col=0)"
   ]
  },
  {
   "cell_type": "markdown",
   "metadata": {},
   "source": [
    "## Read-based analysis"
   ]
  },
  {
   "cell_type": "markdown",
   "metadata": {},
   "source": [
    "### Shannon diversity: different taxonomic classifiers\n",
    "Let's compare diversity metrics based on three different classifiers: Kraken 2, Kaiju and mOTUs 3."
   ]
  },
  {
   "cell_type": "code",
   "execution_count": null,
   "metadata": {},
   "outputs": [],
   "source": [
    "bracken_shannon_fp = os.path.join(data_dir, \"bracken_shannon_vector.qza\")\n",
    "kaiju_shannon_fp = os.path.join(data_dir, \"kaiju_shannon_vector.qza\")\n",
    "motus_shannon_fp = os.path.join(data_dir, \"motus_shannon_vector.qza\")"
   ]
  },
  {
   "cell_type": "code",
   "execution_count": null,
   "metadata": {},
   "outputs": [],
   "source": [
    "fig1, axes1 = plt.subplots(1, 3, figsize=(15,4))\n",
    "\n",
    "_, bracken_df = plot_diversity(\n",
    "    bracken_shannon_fp, metadata, \"timepoint\", \"seed\", axes1[0], None, \"Shannon diversity\", \"Kraken 2 + Bracken\"\n",
    "    )\n",
    "_, kaiju_df = plot_diversity(\n",
    "    kaiju_shannon_fp, metadata, \"timepoint\", \"seed\", axes1[1], \"Time\", \"Shannon diversity\", \"Kaiju\"\n",
    "    )\n",
    "_, motus_df = plot_diversity(\n",
    "    motus_shannon_fp, metadata, \"timepoint\", \"seed\", axes1[2], None, \"Shannon diversity\", \"mOTU\"\n",
    "    )\n",
    "\n",
    "for ax in axes1[1:]:\n",
    "    ax.set_ylabel(None)"
   ]
  },
  {
   "cell_type": "code",
   "execution_count": null,
   "metadata": {},
   "outputs": [],
   "source": [
    "fig1a, axes1a = plt.subplots(1, 1, figsize=(5, 5))\n",
    "\n",
    "_, _ = plot_diversity_together(\n",
    "    {\"bracken\": bracken_shannon_fp, \"kaiju\": kaiju_shannon_fp, \"motus\": motus_shannon_fp}, \n",
    "    metadata, \"Forasteiro\", \"shannon_entropy\", \"timepoint\", \"classifier\", axes1a, None, \n",
    "    \"Shannon diversity\", \"Forasteiro\"\n",
    "    )"
   ]
  },
  {
   "cell_type": "code",
   "execution_count": null,
   "metadata": {},
   "outputs": [],
   "source": [
    "fig1.savefig(os.path.join(data_dir, \"figure1.svg\"), dpi=300)\n",
    "fig1a.savefig(os.path.join(data_dir, \"figure1a.svg\"), dpi=300)"
   ]
  },
  {
   "cell_type": "markdown",
   "metadata": {},
   "source": [
    "### Relative abundances: time course\n",
    "We can visualize how abundances of different taxa changed over time using taxa bar plots. We start by removing the reads which were unclassified or assigned as human."
   ]
  },
  {
   "cell_type": "code",
   "execution_count": null,
   "metadata": {},
   "outputs": [],
   "source": [
    "bracken_ft = q2.Artifact.load(os.path.join(data_dir, \"bracken_ft_filtered_rarefied.qza\"))\n",
    "bracken_taxonomy = q2.Artifact.load(os.path.join(data_dir, \"bracken_taxonomy.qza\"))\n",
    "bracken_ft_filtered, = taxa.methods.filter_table(\n",
    "    table=bracken_ft,\n",
    "    taxonomy=bracken_taxonomy,\n",
    "    exclude=\"Unclassified,homo\",\n",
    ")"
   ]
  },
  {
   "cell_type": "code",
   "execution_count": null,
   "metadata": {},
   "outputs": [],
   "source": [
    "bracken_ft_filtered, = feature_table.methods.filter_features_conditionally(\n",
    "    table=bracken_ft_filtered,\n",
    "    abundance=0.005,\n",
    "    prevalence=0.1\n",
    ")"
   ]
  },
  {
   "cell_type": "markdown",
   "metadata": {},
   "source": [
    "Collapse the feature table to the species level."
   ]
  },
  {
   "cell_type": "code",
   "execution_count": null,
   "metadata": {},
   "outputs": [],
   "source": [
    "bracken_ft_collapsed, = taxa.methods.collapse(\n",
    "    table=bracken_ft_filtered,\n",
    "    taxonomy=bracken_taxonomy,\n",
    "    level=8\n",
    ")\n",
    "bracken_ft_collapsed = bracken_ft_collapsed.view(pd.DataFrame)"
   ]
  },
  {
   "cell_type": "markdown",
   "metadata": {},
   "source": [
    "We want to look at all the species of Acetobacter, otherwise we will collapse to the genus level."
   ]
  },
  {
   "cell_type": "code",
   "execution_count": null,
   "metadata": {},
   "outputs": [],
   "source": [
    "cols_new = {}\n",
    "for col in bracken_ft_collapsed.columns:\n",
    "    if \"s__Acetobacter\" in col:\n",
    "        cols_new[col] = [y[3:] for y in col.split(\";\")][-1]\n",
    "    else:\n",
    "        matches = re.search(r\".*(o__([A-Z]\\w+))\", col)\n",
    "        cols_new[col] = matches.group(2) if matches else \"Unclassified\"\n",
    "\n",
    "bracken_ft_collapsed = bracken_ft_collapsed.rename(\n",
    "    columns=cols_new, inplace=False\n",
    ")"
   ]
  },
  {
   "cell_type": "code",
   "execution_count": null,
   "metadata": {},
   "outputs": [],
   "source": [
    "bracken_grouped = bracken_ft_collapsed.merge(metadata, left_index=True, right_index=True)\n",
    "bracken_grouped.head()"
   ]
  },
  {
   "cell_type": "code",
   "execution_count": null,
   "metadata": {},
   "outputs": [],
   "source": [
    "# collapse by col name and sum\n",
    "bracken_grouped = bracken_grouped.groupby(level=0, axis=1).sum()\n",
    "\n",
    "value_cols = sorted([col for col in bracken_grouped.columns if col not in ('seed', 'timepoint')])\n",
    "bracken_grouped[value_cols] = bracken_grouped[value_cols].div(bracken_grouped[value_cols].sum(axis=1), axis=0)"
   ]
  },
  {
   "cell_type": "code",
   "execution_count": null,
   "metadata": {},
   "outputs": [],
   "source": [
    "bracken_grouped.columns"
   ]
  },
  {
   "cell_type": "code",
   "execution_count": null,
   "metadata": {},
   "outputs": [],
   "source": [
    "fig2, axes2 = plt.subplots(1, 2, figsize=(7, 4), sharey=True)\n",
    "\n",
    "colors = generate_colors(value_cols, \"Acetobacter\", 2)\n",
    "for ax, seed in zip(axes2, bracken_grouped['seed'].unique()):\n",
    "    df_filtered = bracken_grouped[bracken_grouped['seed'] == seed]\n",
    "    df_melted = df_filtered.melt(id_vars=['timepoint'], value_vars=value_cols, var_name='Category', value_name='Value')\n",
    "    pivot_table = df_melted.pivot_table(index='timepoint', columns='Category', values='Value', aggfunc='sum')\n",
    "    \n",
    "    # Reverse the order of categories\n",
    "    pivot_table = pivot_table[value_cols[::-1]]\n",
    "    \n",
    "    column_colors = [colors[col] for col in pivot_table.columns]\n",
    "    pivot_table.plot(kind='bar', stacked=True, ax=ax, color=colors)\n",
    "    ax.set_title(f'{seed}')\n",
    "    ax.set_xlabel('Timepoint')\n",
    "    ax.set_ylabel('Normalized Value')\n",
    "\n",
    "# Disable the legend for the right plot\n",
    "axes2[1].legend_.remove()\n",
    "axes2[0].legend_.remove()\n",
    "\n",
    "handles, labels = axes2[0].get_legend_handles_labels()\n",
    "\n",
    "# Reverse the order of handles and labels\n",
    "handles = handles[::-1]\n",
    "labels = labels[::-1]\n",
    "\n",
    "# Sort the labels and handles alphabetically\n",
    "sorted_labels_handles = sorted(zip(labels, handles), key=lambda x: x[0])\n",
    "sorted_labels, sorted_handles = zip(*sorted_labels_handles)\n",
    "\n",
    "fig2.legend(sorted_handles, sorted_labels, title='Category', bbox_to_anchor=(1.4, 0.9))\n",
    "\n",
    "plt.tight_layout()\n",
    "plt.show()"
   ]
  },
  {
   "cell_type": "code",
   "execution_count": null,
   "metadata": {},
   "outputs": [],
   "source": [
    "fig2.savefig(os.path.join(data_dir, \"figure2.svg\"), dpi=300)"
   ]
  },
  {
   "cell_type": "markdown",
   "metadata": {},
   "source": [
    "## MAG-based analysis\n",
    "Here, we will look at the Shannon diversity of the samples based on taxonomic assignments of the recovered, dereplicated MAGs. Moreover, we will look at how the diversity of CAZyme genes identified in those genomes changes over time."
   ]
  },
  {
   "cell_type": "code",
   "execution_count": null,
   "metadata": {},
   "outputs": [],
   "source": [
    "mag_shannon_fp = os.path.join(data_dir, \"mag_shannon_vector.qza\")\n",
    "caz_shannon_fp = os.path.join(data_dir, \"caz_shannon_vector.qza\")"
   ]
  },
  {
   "cell_type": "code",
   "execution_count": null,
   "metadata": {},
   "outputs": [],
   "source": [
    "fig3, axes3 = plt.subplots(1, 2, figsize=(10,4))\n",
    "\n",
    "_, mag_df = plot_diversity(\n",
    "    mag_shannon_fp, metadata, \"timepoint\", \"seed\", axes3[0], \"Time\", \"Shannon diversity\", \"Kraken 2\"\n",
    "    )\n",
    "_, caz_df = plot_diversity(\n",
    "    caz_shannon_fp, metadata, \"timepoint\", \"seed\", axes3[1], \"Time\", \"Shannon diversity\", \"CAZymes [EggNOG]\"\n",
    "    )"
   ]
  },
  {
   "cell_type": "code",
   "execution_count": null,
   "metadata": {},
   "outputs": [],
   "source": [
    "fig3.savefig(os.path.join(data_dir, \"figure3.svg\"), dpi=300)"
   ]
  },
  {
   "cell_type": "code",
   "execution_count": null,
   "metadata": {},
   "outputs": [],
   "source": [
    "# combine the two taxonomy and CAZymes\n",
    "mags_combined = mag_df.copy()\n",
    "mags_combined.rename(columns={\"shannon_entropy\": \"shannon_taxonomy\"}, inplace=True)\n",
    "mags_combined[\"shannon_caz\"] = caz_df[\"shannon_entropy\"]\n",
    "mags_combined.head()"
   ]
  },
  {
   "cell_type": "code",
   "execution_count": null,
   "metadata": {},
   "outputs": [],
   "source": [
    "fig3a, axes3a = plt.subplots(1, 1, figsize=(5, 5))\n",
    "\n",
    "_, _ = plot_diversity_together(\n",
    "    {\"taxonomy\": mag_shannon_fp, \"caz\": caz_shannon_fp}, \n",
    "    metadata, \"Forasteiro\", \"shannon_entropy\", \"timepoint\", \"classifier\", axes3a, None, \n",
    "    \"Shannon diversity\", \"Forasteiro\"\n",
    "    )"
   ]
  },
  {
   "cell_type": "code",
   "execution_count": null,
   "metadata": {},
   "outputs": [],
   "source": [
    "fig3a.savefig(os.path.join(data_dir, \"figure3a.svg\"), dpi=300)"
   ]
  },
  {
   "cell_type": "markdown",
   "metadata": {},
   "source": [
    "### CAZyme relative abundances: time course"
   ]
  },
  {
   "cell_type": "code",
   "execution_count": null,
   "metadata": {},
   "outputs": [],
   "source": [
    "caz_ft = q2.Artifact.load(os.path.join(data_dir, \"caz_ft_rarefied.qza\")).view(pd.DataFrame)\n",
    "caz_ft.head()"
   ]
  },
  {
   "cell_type": "code",
   "execution_count": null,
   "metadata": {},
   "outputs": [],
   "source": [
    "caz_ft_merged = caz_ft.merge(metadata, left_index=True, right_index=True)"
   ]
  },
  {
   "cell_type": "markdown",
   "metadata": {},
   "source": [
    "Prepare the color maps."
   ]
  },
  {
   "cell_type": "code",
   "execution_count": null,
   "metadata": {},
   "outputs": [],
   "source": [
    "value_cols = [col for col in sorted(caz_ft_merged.columns) if col not in ('seed', 'timepoint')]\n",
    "caz_ft_merged[value_cols] = caz_ft_merged[value_cols].div(caz_ft_merged[value_cols].sum(axis=1), axis=0)\n",
    "\n",
    "sequential_cmaps = [\n",
    "    LinearSegmentedColormap.from_list(\n",
    "    \"custom_cmap\", [\"white\", sns.husl_palette(6, h=0.5)[x]]\n",
    "    ) for x in range(6)\n",
    "]\n",
    "\n",
    "# Define custom linspace parameters for each category\n",
    "category_spacing = {\n",
    "    \"AA\": (0.9, 1.6),  # (start, end) values for np.linspace\n",
    "    \"CBM\": (0.4, 1.0),\n",
    "    \"CE\": (0.6, 1.0),\n",
    "    \"GH\": (0.2, 1.6),\n",
    "    \"GT\": (0.2, 1.6),\n",
    "    \"PL\": (0.9, 1.6)\n",
    "}\n",
    "\n",
    "# Group columns by category\n",
    "category_groups = {}\n",
    "for col in value_cols:\n",
    "    curr_cat = re.sub(r'\\d', '', col)\n",
    "    if curr_cat not in category_groups:\n",
    "        category_groups[curr_cat] = []\n",
    "    category_groups[curr_cat].append(col)\n",
    "\n",
    "# Generate color maps scaled to the actual number of columns in each category\n",
    "maps = {}\n",
    "for category, cols in category_groups.items():\n",
    "    n_cols = len(cols)\n",
    "    start, end = category_spacing.get(category, (0.1, 1.6))  # Get the custom spacing for each category\n",
    "    color_range = np.linspace(start, end, n_cols)  # Adjust the color range with custom start and end\n",
    "    cmap_index = [\"GH\", \"GT\", \"CE\", \"PL\", \"CBM\", \"AA\"].index(category)  # Map to the correct colormap\n",
    "    maps[category] = [sequential_cmaps[cmap_index](i) for i in color_range]  # Use reversed color range"
   ]
  },
  {
   "cell_type": "code",
   "execution_count": null,
   "metadata": {},
   "outputs": [],
   "source": [
    "fig4, axes4 = plt.subplots(1, 2, figsize=(7, 4), sharey=True)\n",
    "\n",
    "category_colors = []\n",
    "curr_color, prev_cat, curr_idx = None, None, 0\n",
    "for col in value_cols:\n",
    "    curr_cat = re.sub(r'\\d', '', col)\n",
    "    if curr_cat != prev_cat:\n",
    "        curr_idx = 0\n",
    "        prev_cat = curr_cat\n",
    "    else:\n",
    "        curr_idx += 1\n",
    "    curr_color = maps[curr_cat][curr_idx]\n",
    "    category_colors.append(curr_color)\n",
    "\n",
    "for ax, seed in zip(axes4, caz_ft_merged['seed'].unique()):\n",
    "    df_filtered = caz_ft_merged[caz_ft_merged['seed'] == seed]\n",
    "    df_melted = df_filtered.melt(id_vars=['timepoint'], value_vars=value_cols, var_name='Category', value_name='Value')\n",
    "    pivot_table = df_melted.pivot_table(index='timepoint', columns='Category', values='Value', aggfunc='sum')\n",
    "    \n",
    "    # Reverse the order of categories\n",
    "    pivot_table = pivot_table[value_cols]\n",
    "    \n",
    "    pivot_table.plot(kind='bar', stacked=True, ax=ax, color=category_colors)\n",
    "    ax.set_title(f'{seed.capitalize()}')\n",
    "    ax.set_xlabel('Timepoint')\n",
    "    ax.set_ylabel('Normalized Value')\n",
    "    ax.set_ylim(0, 1.05)\n",
    "\n",
    "# Disable the legend for the right plot\n",
    "axes4[1].legend_.remove()\n",
    "axes4[0].legend_.remove()\n",
    "\n",
    "# Move the legend for the left plot\n",
    "handles, labels = axes4[0].get_legend_handles_labels()\n",
    "\n",
    "# Sort the labels and handles alphabetically\n",
    "sorted_labels_handles = sorted(zip(labels, handles), key=lambda x: x[0])\n",
    "sorted_labels, sorted_handles = zip(*sorted_labels_handles)\n",
    "\n",
    "fig4.legend(sorted_handles, sorted_labels, title='Category', bbox_to_anchor=(1.2, 0.9))\n",
    "\n",
    "plt.tight_layout()\n",
    "plt.show()"
   ]
  },
  {
   "cell_type": "code",
   "execution_count": null,
   "metadata": {},
   "outputs": [],
   "source": [
    "fig4.savefig(os.path.join(data_dir, \"figure4.svg\"), dpi=300)"
   ]
  },
  {
   "cell_type": "markdown",
   "metadata": {
    "execution": {
     "iopub.execute_input": "2024-10-02T14:41:25.274753Z",
     "iopub.status.busy": "2024-10-02T14:41:25.274095Z",
     "iopub.status.idle": "2024-10-02T14:41:25.277593Z",
     "shell.execute_reply": "2024-10-02T14:41:25.276947Z",
     "shell.execute_reply.started": "2024-10-02T14:41:25.274727Z"
    }
   },
   "source": [
    "### Relative abundances of MAGs: time course"
   ]
  },
  {
   "cell_type": "code",
   "execution_count": null,
   "metadata": {},
   "outputs": [],
   "source": [
    "mags_ft = q2.Artifact.load(os.path.join(data_dir, \"mags_ft_rarefied.qza\"))\n",
    "mags_taxonomy = q2.Artifact.load(os.path.join(data_dir, \"mags_taxonomy.qza\"))"
   ]
  },
  {
   "cell_type": "code",
   "execution_count": null,
   "metadata": {},
   "outputs": [],
   "source": [
    "mags_ft_filtered, = taxa.methods.filter_table(\n",
    "    table=mags_ft,\n",
    "    taxonomy=mags_taxonomy,\n",
    "    exclude=\"Unclassified\",\n",
    ")"
   ]
  },
  {
   "cell_type": "code",
   "execution_count": null,
   "metadata": {},
   "outputs": [],
   "source": [
    "mags_ft_collapsed, = taxa.methods.collapse(\n",
    "    table=mags_ft_filtered,\n",
    "    taxonomy=mags_taxonomy,\n",
    "    level=8\n",
    ")\n",
    "mags_ft_collapsed = mags_ft_collapsed.view(pd.DataFrame)"
   ]
  },
  {
   "cell_type": "code",
   "execution_count": null,
   "metadata": {},
   "outputs": [],
   "source": [
    "mags_grouped = mags_ft_collapsed.merge(metadata, left_index=True, right_index=True)\n",
    "mags_grouped.head()"
   ]
  },
  {
   "cell_type": "code",
   "execution_count": null,
   "metadata": {},
   "outputs": [],
   "source": [
    "value_cols = [col for col in mags_grouped if col not in ('seed', 'timepoint')]\n",
    "mags_grouped[value_cols] = mags_grouped[value_cols].div(mags_grouped[value_cols].sum(axis=1), axis=0)"
   ]
  },
  {
   "cell_type": "code",
   "execution_count": null,
   "metadata": {},
   "outputs": [],
   "source": [
    "fig5, axes5 = plt.subplots(1, 2, figsize=(10, 5), sharey=True)\n",
    "\n",
    "for ax, seed in zip(axes5, mags_grouped['seed'].unique()):\n",
    "    df_filtered = mags_grouped[mags_grouped['seed'] == seed]\n",
    "    df_melted = df_filtered.melt(id_vars=['timepoint'], value_vars=value_cols, var_name='Category', value_name='Value')\n",
    "    pivot_table = df_melted.pivot_table(index='timepoint', columns='Category', values='Value', aggfunc='sum')\n",
    "    \n",
    "    # Reverse the order of categories\n",
    "    pivot_table = pivot_table[value_cols[::-1]]\n",
    "    \n",
    "    pivot_table.plot(kind='bar', stacked=True, ax=ax)\n",
    "    ax.set_title(f'Stacked Bar Plot for Seed {seed}')\n",
    "    ax.set_xlabel('Timepoint')\n",
    "    ax.set_ylabel('Normalized Value')\n",
    "\n",
    "# Disable the legend for the right plot\n",
    "axes5[1].legend_.remove()\n",
    "axes5[0].legend_.remove()\n",
    "\n",
    "# Move the legend for the left plot\n",
    "handles, labels = axes5[0].get_legend_handles_labels()\n",
    "\n",
    "# Reverse the order of handles and labels\n",
    "handles = handles[::-1]\n",
    "labels = labels[::-1]\n",
    "\n",
    "fig5.legend(handles, labels, title='Category', bbox_to_anchor=(1.1, -0.05))\n",
    "\n",
    "plt.tight_layout()\n",
    "plt.show()"
   ]
  },
  {
   "cell_type": "code",
   "execution_count": null,
   "metadata": {},
   "outputs": [],
   "source": [
    "fig5.savefig(os.path.join(data_dir, \"figure5.svg\"), dpi=300)"
   ]
  }
 ],
 "metadata": {
  "kernelspec": {
   "display_name": "q2-metagenome-2024.10",
   "language": "python",
   "name": "q2-metagenome-2024.10"
  },
  "language_info": {
   "codemirror_mode": {
    "name": "ipython",
    "version": 3
   },
   "file_extension": ".py",
   "mimetype": "text/x-python",
   "name": "python",
   "nbconvert_exporter": "python",
   "pygments_lexer": "ipython3",
   "version": "3.10.14"
  }
 },
 "nbformat": 4,
 "nbformat_minor": 4
}
